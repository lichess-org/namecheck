{
 "cells": [
  {
   "cell_type": "code",
   "execution_count": 1,
   "id": "2efc149c-c793-429b-a56f-b64ffb6832e6",
   "metadata": {},
   "outputs": [],
   "source": [
    "import zulip\n",
    "\n",
    "# Pass the path to your zuliprc file here.\n",
    "client = zulip.Client(config_file=\"~/Downloads/zuliprc\")\n",
    "\n"
   ]
  },
  {
   "cell_type": "code",
   "execution_count": 2,
   "id": "e0f32298-e2da-4c67-8aff-a12cc63228f5",
   "metadata": {},
   "outputs": [],
   "source": [
    "username_stream = 91\n",
    "result = client.get_stream_topics(username_stream)\n"
   ]
  },
  {
   "cell_type": "code",
   "execution_count": 3,
   "id": "35ca4cf3-72f7-498f-8d08-4797b9d71758",
   "metadata": {},
   "outputs": [
    {
     "data": {
      "text/plain": [
       "3"
      ]
     },
     "execution_count": 3,
     "metadata": {},
     "output_type": "execute_result"
    }
   ],
   "source": [
    "len(result)"
   ]
  },
  {
   "cell_type": "code",
   "execution_count": 11,
   "id": "24bf2620-0c68-4ac2-8f37-452a53020a9d",
   "metadata": {},
   "outputs": [],
   "source": [
    "username_topics = [uname[\"name\"] for uname in result[\"topics\"] if uname[\"name\"].startswith(\"/\") or uname[\"name\"].startswith(\"✔ /\")]"
   ]
  },
  {
   "cell_type": "code",
   "execution_count": 14,
   "id": "6cf1f5ac-ba0b-4f5b-adcc-56beafcbc2d5",
   "metadata": {},
   "outputs": [],
   "source": [
    "usernames = [n.lstrip(\"/\").lstrip(\"✔ /\") for n in username_topics]"
   ]
  },
  {
   "cell_type": "code",
   "execution_count": 16,
   "id": "18541d2e-d9a2-49ab-aa6c-d9bfc76a58f6",
   "metadata": {},
   "outputs": [
    {
     "name": "stderr",
     "output_type": "stream",
     "text": [
      "INFO:wordllama.wordllama:Downloading tokenizer file 'l2_supercat_tokenizer_config.json' from Hugging Face repository 'dleemiller/word-llama-l2-supercat'.\n"
     ]
    }
   ],
   "source": [
    "from wordllama import WordLlama\n",
    "\n",
    "# Load the default WordLlama model\n",
    "wl = WordLlama.load()"
   ]
  },
  {
   "cell_type": "code",
   "execution_count": 17,
   "id": "66a4ae70-bd64-4c7e-84f4-1dd62586e8d5",
   "metadata": {},
   "outputs": [],
   "source": [
    "def find_most_similar_already_discussed(name_in_question):\n",
    "    top_docs = wl.topk(name_in_question, usernames, k=10)\n",
    "    print(top_docs)"
   ]
  },
  {
   "cell_type": "code",
   "execution_count": 18,
   "id": "f9d25bb8-80f9-4797-b77f-b912d8d69815",
   "metadata": {},
   "outputs": [
    {
     "name": "stdout",
     "output_type": "stream",
     "text": [
      "['RacistCandy', 'fcckandy', 'Racist_Dog', 'RacistSalad', 'RussianRacistFacist', 'RacismForTheWin', 'RacistArab', 'fxckRACISTS', 'I_Give_candy_to_kids', 'sucmyyummyballs2']\n"
     ]
    }
   ],
   "source": [
    "find_most_similar_already_discussed(\"Racist Candy\")"
   ]
  },
  {
   "cell_type": "code",
   "execution_count": null,
   "id": "0f84494e-e7f8-4f7d-bab9-84cbf8d319f2",
   "metadata": {},
   "outputs": [],
   "source": []
  }
 ],
 "metadata": {
  "kernelspec": {
   "display_name": "Python 3 (ipykernel)",
   "language": "python",
   "name": "python3"
  },
  "language_info": {
   "codemirror_mode": {
    "name": "ipython",
    "version": 3
   },
   "file_extension": ".py",
   "mimetype": "text/x-python",
   "name": "python",
   "nbconvert_exporter": "python",
   "pygments_lexer": "ipython3",
   "version": "3.11.11"
  }
 },
 "nbformat": 4,
 "nbformat_minor": 5
}
